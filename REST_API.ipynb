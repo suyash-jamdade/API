{
  "nbformat": 4,
  "nbformat_minor": 0,
  "metadata": {
    "colab": {
      "name": "Welcome To Colaboratory",
      "provenance": [],
      "collapsed_sections": [],
      "include_colab_link": true
    },
    "kernelspec": {
      "display_name": "Python 3",
      "name": "python3"
    }
  },
  "cells": [
    {
      "cell_type": "markdown",
      "metadata": {
        "id": "view-in-github",
        "colab_type": "text"
      },
      "source": [
        "<a href=\"https://colab.research.google.com/github/suyash-jamdade/API/blob/master/REST_API.ipynb\" target=\"_parent\"><img src=\"https://colab.research.google.com/assets/colab-badge.svg\" alt=\"Open In Colab\"/></a>"
      ]
    },
    {
      "cell_type": "markdown",
      "metadata": {
        "id": "nm4FT1fc3CZr",
        "colab_type": "text"
      },
      "source": [
        "## **Determination of how well the Golden State Warriors performed against the Toronto Raptors.**"
      ]
    },
    {
      "cell_type": "code",
      "metadata": {
        "id": "LV06p-KVzoyF",
        "colab_type": "code",
        "colab": {
          "base_uri": "https://localhost:8080/",
          "height": 233
        },
        "outputId": "e1f6794a-067d-4d3b-9668-0b311500957c"
      },
      "source": [
        "!pip install nba_api"
      ],
      "execution_count": 1,
      "outputs": [
        {
          "output_type": "stream",
          "text": [
            "Collecting nba_api\n",
            "\u001b[?25l  Downloading https://files.pythonhosted.org/packages/fd/94/ee060255b91d945297ebc2fe9a8672aee07ce83b553eef1c5ac5b974995a/nba_api-1.1.8-py3-none-any.whl (217kB)\n",
            "\r\u001b[K     |█▌                              | 10kB 17.2MB/s eta 0:00:01\r\u001b[K     |███                             | 20kB 1.8MB/s eta 0:00:01\r\u001b[K     |████▌                           | 30kB 2.3MB/s eta 0:00:01\r\u001b[K     |██████                          | 40kB 1.6MB/s eta 0:00:01\r\u001b[K     |███████▌                        | 51kB 1.9MB/s eta 0:00:01\r\u001b[K     |█████████                       | 61kB 2.3MB/s eta 0:00:01\r\u001b[K     |██████████▌                     | 71kB 2.4MB/s eta 0:00:01\r\u001b[K     |████████████                    | 81kB 2.3MB/s eta 0:00:01\r\u001b[K     |█████████████▋                  | 92kB 2.6MB/s eta 0:00:01\r\u001b[K     |███████████████                 | 102kB 2.7MB/s eta 0:00:01\r\u001b[K     |████████████████▋               | 112kB 2.7MB/s eta 0:00:01\r\u001b[K     |██████████████████              | 122kB 2.7MB/s eta 0:00:01\r\u001b[K     |███████████████████▋            | 133kB 2.7MB/s eta 0:00:01\r\u001b[K     |█████████████████████           | 143kB 2.7MB/s eta 0:00:01\r\u001b[K     |██████████████████████▋         | 153kB 2.7MB/s eta 0:00:01\r\u001b[K     |████████████████████████        | 163kB 2.7MB/s eta 0:00:01\r\u001b[K     |█████████████████████████▋      | 174kB 2.7MB/s eta 0:00:01\r\u001b[K     |███████████████████████████▏    | 184kB 2.7MB/s eta 0:00:01\r\u001b[K     |████████████████████████████▋   | 194kB 2.7MB/s eta 0:00:01\r\u001b[K     |██████████████████████████████▏ | 204kB 2.7MB/s eta 0:00:01\r\u001b[K     |███████████████████████████████▋| 215kB 2.7MB/s eta 0:00:01\r\u001b[K     |████████████████████████████████| 225kB 2.7MB/s \n",
            "\u001b[?25hRequirement already satisfied: requests in /usr/local/lib/python3.6/dist-packages (from nba_api) (2.21.0)\n",
            "Requirement already satisfied: certifi>=2017.4.17 in /usr/local/lib/python3.6/dist-packages (from requests->nba_api) (2020.4.5.1)\n",
            "Requirement already satisfied: urllib3<1.25,>=1.21.1 in /usr/local/lib/python3.6/dist-packages (from requests->nba_api) (1.24.3)\n",
            "Requirement already satisfied: chardet<3.1.0,>=3.0.2 in /usr/local/lib/python3.6/dist-packages (from requests->nba_api) (3.0.4)\n",
            "Requirement already satisfied: idna<2.9,>=2.5 in /usr/local/lib/python3.6/dist-packages (from requests->nba_api) (2.8)\n",
            "Installing collected packages: nba-api\n",
            "Successfully installed nba-api-1.1.8\n"
          ],
          "name": "stdout"
        }
      ]
    },
    {
      "cell_type": "code",
      "metadata": {
        "id": "jAbyANO8zo4B",
        "colab_type": "code",
        "colab": {}
      },
      "source": [
        "def one_dict(list_dict):\n",
        "    keys=list_dict[0].keys()\n",
        "    out_dict={key:[] for key in keys}\n",
        "    for dict_ in list_dict:\n",
        "        for key, value in dict_.items():\n",
        "            out_dict[key].append(value)\n",
        "    return out_dict "
      ],
      "execution_count": 0,
      "outputs": []
    },
    {
      "cell_type": "code",
      "metadata": {
        "id": "TQ3ysZivzo6R",
        "colab_type": "code",
        "colab": {}
      },
      "source": [
        "import pandas as pd\n",
        "import matplotlib.pyplot as plt"
      ],
      "execution_count": 0,
      "outputs": []
    },
    {
      "cell_type": "code",
      "metadata": {
        "id": "KXZ0J1jdzo92",
        "colab_type": "code",
        "colab": {}
      },
      "source": [
        "dict_={'a':[11,21,31],'b':[12,22,32]}"
      ],
      "execution_count": 0,
      "outputs": []
    },
    {
      "cell_type": "code",
      "metadata": {
        "id": "34OQfnywzpAB",
        "colab_type": "code",
        "colab": {
          "base_uri": "https://localhost:8080/",
          "height": 35
        },
        "outputId": "89067a4a-c748-47f3-e44c-ccb2dcd315ff"
      },
      "source": [
        "df=pd.DataFrame(dict_)\n",
        "type(df)"
      ],
      "execution_count": 5,
      "outputs": [
        {
          "output_type": "execute_result",
          "data": {
            "text/plain": [
              "pandas.core.frame.DataFrame"
            ]
          },
          "metadata": {
            "tags": []
          },
          "execution_count": 5
        }
      ]
    },
    {
      "cell_type": "code",
      "metadata": {
        "id": "zgo0PG2KzpDC",
        "colab_type": "code",
        "colab": {
          "base_uri": "https://localhost:8080/",
          "height": 144
        },
        "outputId": "313be988-7ae9-45df-8ff6-3ea738fea928"
      },
      "source": [
        "df.head()"
      ],
      "execution_count": 6,
      "outputs": [
        {
          "output_type": "execute_result",
          "data": {
            "text/html": [
              "<div>\n",
              "<style scoped>\n",
              "    .dataframe tbody tr th:only-of-type {\n",
              "        vertical-align: middle;\n",
              "    }\n",
              "\n",
              "    .dataframe tbody tr th {\n",
              "        vertical-align: top;\n",
              "    }\n",
              "\n",
              "    .dataframe thead th {\n",
              "        text-align: right;\n",
              "    }\n",
              "</style>\n",
              "<table border=\"1\" class=\"dataframe\">\n",
              "  <thead>\n",
              "    <tr style=\"text-align: right;\">\n",
              "      <th></th>\n",
              "      <th>a</th>\n",
              "      <th>b</th>\n",
              "    </tr>\n",
              "  </thead>\n",
              "  <tbody>\n",
              "    <tr>\n",
              "      <th>0</th>\n",
              "      <td>11</td>\n",
              "      <td>12</td>\n",
              "    </tr>\n",
              "    <tr>\n",
              "      <th>1</th>\n",
              "      <td>21</td>\n",
              "      <td>22</td>\n",
              "    </tr>\n",
              "    <tr>\n",
              "      <th>2</th>\n",
              "      <td>31</td>\n",
              "      <td>32</td>\n",
              "    </tr>\n",
              "  </tbody>\n",
              "</table>\n",
              "</div>"
            ],
            "text/plain": [
              "    a   b\n",
              "0  11  12\n",
              "1  21  22\n",
              "2  31  32"
            ]
          },
          "metadata": {
            "tags": []
          },
          "execution_count": 6
        }
      ]
    },
    {
      "cell_type": "code",
      "metadata": {
        "id": "AvNfaVeUzpF4",
        "colab_type": "code",
        "colab": {
          "base_uri": "https://localhost:8080/",
          "height": 70
        },
        "outputId": "d7e064d7-fc1e-4e67-b4b2-cc18bd497bc7"
      },
      "source": [
        "df.mean()"
      ],
      "execution_count": 7,
      "outputs": [
        {
          "output_type": "execute_result",
          "data": {
            "text/plain": [
              "a    21.0\n",
              "b    22.0\n",
              "dtype: float64"
            ]
          },
          "metadata": {
            "tags": []
          },
          "execution_count": 7
        }
      ]
    },
    {
      "cell_type": "code",
      "metadata": {
        "id": "tjJ8d6LtzpIN",
        "colab_type": "code",
        "colab": {}
      },
      "source": [
        "from nba_api.stats.static import teams\n",
        "import matplotlib.pyplot as plt\n"
      ],
      "execution_count": 0,
      "outputs": []
    },
    {
      "cell_type": "code",
      "metadata": {
        "id": "dNT5TUj_zpKo",
        "colab_type": "code",
        "colab": {}
      },
      "source": [
        "nba_teams = teams.get_teams()"
      ],
      "execution_count": 0,
      "outputs": []
    },
    {
      "cell_type": "code",
      "metadata": {
        "id": "BSUBYFDvzpNW",
        "colab_type": "code",
        "colab": {
          "base_uri": "https://localhost:8080/",
          "height": 386
        },
        "outputId": "442e28db-e104-4ff1-f8bf-7339c40fe420"
      },
      "source": [
        "nba_teams[0:3]"
      ],
      "execution_count": 13,
      "outputs": [
        {
          "output_type": "execute_result",
          "data": {
            "text/plain": [
              "[{'abbreviation': 'ATL',\n",
              "  'city': 'Atlanta',\n",
              "  'full_name': 'Atlanta Hawks',\n",
              "  'id': 1610612737,\n",
              "  'nickname': 'Hawks',\n",
              "  'state': 'Atlanta',\n",
              "  'year_founded': 1949},\n",
              " {'abbreviation': 'BOS',\n",
              "  'city': 'Boston',\n",
              "  'full_name': 'Boston Celtics',\n",
              "  'id': 1610612738,\n",
              "  'nickname': 'Celtics',\n",
              "  'state': 'Massachusetts',\n",
              "  'year_founded': 1946},\n",
              " {'abbreviation': 'CLE',\n",
              "  'city': 'Cleveland',\n",
              "  'full_name': 'Cleveland Cavaliers',\n",
              "  'id': 1610612739,\n",
              "  'nickname': 'Cavaliers',\n",
              "  'state': 'Ohio',\n",
              "  'year_founded': 1970}]"
            ]
          },
          "metadata": {
            "tags": []
          },
          "execution_count": 13
        }
      ]
    },
    {
      "cell_type": "code",
      "metadata": {
        "id": "0JJTDJcLzpP-",
        "colab_type": "code",
        "colab": {
          "base_uri": "https://localhost:8080/",
          "height": 330
        },
        "outputId": "29ae1dae-4f6c-45ce-8463-3f947fb299e0"
      },
      "source": [
        "dict_nba_team=one_dict(nba_teams)\n",
        "df_teams=pd.DataFrame(dict_nba_team)\n",
        "df_teams.head()"
      ],
      "execution_count": 14,
      "outputs": [
        {
          "output_type": "execute_result",
          "data": {
            "text/html": [
              "<div>\n",
              "<style scoped>\n",
              "    .dataframe tbody tr th:only-of-type {\n",
              "        vertical-align: middle;\n",
              "    }\n",
              "\n",
              "    .dataframe tbody tr th {\n",
              "        vertical-align: top;\n",
              "    }\n",
              "\n",
              "    .dataframe thead th {\n",
              "        text-align: right;\n",
              "    }\n",
              "</style>\n",
              "<table border=\"1\" class=\"dataframe\">\n",
              "  <thead>\n",
              "    <tr style=\"text-align: right;\">\n",
              "      <th></th>\n",
              "      <th>id</th>\n",
              "      <th>full_name</th>\n",
              "      <th>abbreviation</th>\n",
              "      <th>nickname</th>\n",
              "      <th>city</th>\n",
              "      <th>state</th>\n",
              "      <th>year_founded</th>\n",
              "    </tr>\n",
              "  </thead>\n",
              "  <tbody>\n",
              "    <tr>\n",
              "      <th>0</th>\n",
              "      <td>1610612737</td>\n",
              "      <td>Atlanta Hawks</td>\n",
              "      <td>ATL</td>\n",
              "      <td>Hawks</td>\n",
              "      <td>Atlanta</td>\n",
              "      <td>Atlanta</td>\n",
              "      <td>1949</td>\n",
              "    </tr>\n",
              "    <tr>\n",
              "      <th>1</th>\n",
              "      <td>1610612738</td>\n",
              "      <td>Boston Celtics</td>\n",
              "      <td>BOS</td>\n",
              "      <td>Celtics</td>\n",
              "      <td>Boston</td>\n",
              "      <td>Massachusetts</td>\n",
              "      <td>1946</td>\n",
              "    </tr>\n",
              "    <tr>\n",
              "      <th>2</th>\n",
              "      <td>1610612739</td>\n",
              "      <td>Cleveland Cavaliers</td>\n",
              "      <td>CLE</td>\n",
              "      <td>Cavaliers</td>\n",
              "      <td>Cleveland</td>\n",
              "      <td>Ohio</td>\n",
              "      <td>1970</td>\n",
              "    </tr>\n",
              "    <tr>\n",
              "      <th>3</th>\n",
              "      <td>1610612740</td>\n",
              "      <td>New Orleans Pelicans</td>\n",
              "      <td>NOP</td>\n",
              "      <td>Pelicans</td>\n",
              "      <td>New Orleans</td>\n",
              "      <td>Louisiana</td>\n",
              "      <td>2002</td>\n",
              "    </tr>\n",
              "    <tr>\n",
              "      <th>4</th>\n",
              "      <td>1610612741</td>\n",
              "      <td>Chicago Bulls</td>\n",
              "      <td>CHI</td>\n",
              "      <td>Bulls</td>\n",
              "      <td>Chicago</td>\n",
              "      <td>Illinois</td>\n",
              "      <td>1966</td>\n",
              "    </tr>\n",
              "  </tbody>\n",
              "</table>\n",
              "</div>"
            ],
            "text/plain": [
              "           id             full_name  ...          state year_founded\n",
              "0  1610612737         Atlanta Hawks  ...        Atlanta         1949\n",
              "1  1610612738        Boston Celtics  ...  Massachusetts         1946\n",
              "2  1610612739   Cleveland Cavaliers  ...           Ohio         1970\n",
              "3  1610612740  New Orleans Pelicans  ...      Louisiana         2002\n",
              "4  1610612741         Chicago Bulls  ...       Illinois         1966\n",
              "\n",
              "[5 rows x 7 columns]"
            ]
          },
          "metadata": {
            "tags": []
          },
          "execution_count": 14
        }
      ]
    },
    {
      "cell_type": "code",
      "metadata": {
        "id": "-hwK_fF-1GZI",
        "colab_type": "code",
        "colab": {
          "base_uri": "https://localhost:8080/",
          "height": 98
        },
        "outputId": "55df5708-7969-4332-b078-2f29a5bc791e"
      },
      "source": [
        "df_warriors=df_teams[df_teams['nickname']=='Warriors']\n",
        "df_warriors"
      ],
      "execution_count": 15,
      "outputs": [
        {
          "output_type": "execute_result",
          "data": {
            "text/html": [
              "<div>\n",
              "<style scoped>\n",
              "    .dataframe tbody tr th:only-of-type {\n",
              "        vertical-align: middle;\n",
              "    }\n",
              "\n",
              "    .dataframe tbody tr th {\n",
              "        vertical-align: top;\n",
              "    }\n",
              "\n",
              "    .dataframe thead th {\n",
              "        text-align: right;\n",
              "    }\n",
              "</style>\n",
              "<table border=\"1\" class=\"dataframe\">\n",
              "  <thead>\n",
              "    <tr style=\"text-align: right;\">\n",
              "      <th></th>\n",
              "      <th>id</th>\n",
              "      <th>full_name</th>\n",
              "      <th>abbreviation</th>\n",
              "      <th>nickname</th>\n",
              "      <th>city</th>\n",
              "      <th>state</th>\n",
              "      <th>year_founded</th>\n",
              "    </tr>\n",
              "  </thead>\n",
              "  <tbody>\n",
              "    <tr>\n",
              "      <th>7</th>\n",
              "      <td>1610612744</td>\n",
              "      <td>Golden State Warriors</td>\n",
              "      <td>GSW</td>\n",
              "      <td>Warriors</td>\n",
              "      <td>Golden State</td>\n",
              "      <td>California</td>\n",
              "      <td>1946</td>\n",
              "    </tr>\n",
              "  </tbody>\n",
              "</table>\n",
              "</div>"
            ],
            "text/plain": [
              "           id              full_name  ...       state year_founded\n",
              "7  1610612744  Golden State Warriors  ...  California         1946\n",
              "\n",
              "[1 rows x 7 columns]"
            ]
          },
          "metadata": {
            "tags": []
          },
          "execution_count": 15
        }
      ]
    },
    {
      "cell_type": "code",
      "metadata": {
        "id": "6eVPLpnz1GRb",
        "colab_type": "code",
        "colab": {
          "base_uri": "https://localhost:8080/",
          "height": 35
        },
        "outputId": "58fb9846-4a2e-4fd3-8e5c-395710026d4d"
      },
      "source": [
        "id_warriors=df_warriors[['id']].values[0][0]\n",
        "#we now have an integer that can be used   to request the Warriors information \n",
        "id_warriors"
      ],
      "execution_count": 16,
      "outputs": [
        {
          "output_type": "execute_result",
          "data": {
            "text/plain": [
              "1610612744"
            ]
          },
          "metadata": {
            "tags": []
          },
          "execution_count": 16
        }
      ]
    },
    {
      "cell_type": "code",
      "metadata": {
        "id": "viCy1uR11GMb",
        "colab_type": "code",
        "colab": {}
      },
      "source": [
        "from nba_api.stats.endpoints import leaguegamefinder"
      ],
      "execution_count": 0,
      "outputs": []
    },
    {
      "cell_type": "code",
      "metadata": {
        "id": "sQLAzKDQ1hqK",
        "colab_type": "code",
        "colab": {}
      },
      "source": [
        "#gamefinder = leaguegamefinder.LeagueGameFinder(team_id_nullable=id_warriors)"
      ],
      "execution_count": 0,
      "outputs": []
    },
    {
      "cell_type": "code",
      "metadata": {
        "id": "mvd1Iat917lu",
        "colab_type": "code",
        "colab": {}
      },
      "source": [
        "#gamefinder.get_json()"
      ],
      "execution_count": 0,
      "outputs": []
    },
    {
      "cell_type": "code",
      "metadata": {
        "id": "j6Ipb4tT1iwN",
        "colab_type": "code",
        "colab": {}
      },
      "source": [
        "# games = gamefinder.get_data_frames()[0]"
      ],
      "execution_count": 0,
      "outputs": []
    },
    {
      "cell_type": "code",
      "metadata": {
        "id": "5-JkkScX1GHk",
        "colab_type": "code",
        "colab": {
          "base_uri": "https://localhost:8080/",
          "height": 268
        },
        "outputId": "8f27940c-e4b6-43dd-f60c-ec49105f8e55"
      },
      "source": [
        "! wget https://s3-api.us-geo.objectstorage.softlayer.net/cf-courses-data/CognitiveClass/PY0101EN/Chapter%205/Labs/Golden_State.pkl"
      ],
      "execution_count": 18,
      "outputs": [
        {
          "output_type": "stream",
          "text": [
            "--2020-04-16 21:12:21--  https://s3-api.us-geo.objectstorage.softlayer.net/cf-courses-data/CognitiveClass/PY0101EN/Chapter%205/Labs/Golden_State.pkl\n",
            "Resolving s3-api.us-geo.objectstorage.softlayer.net (s3-api.us-geo.objectstorage.softlayer.net)... 67.228.254.196\n",
            "Connecting to s3-api.us-geo.objectstorage.softlayer.net (s3-api.us-geo.objectstorage.softlayer.net)|67.228.254.196|:443... connected.\n",
            "HTTP request sent, awaiting response... 200 OK\n",
            "Length: 811065 (792K) [application/octet-stream]\n",
            "Saving to: ‘Golden_State.pkl’\n",
            "\n",
            "\rGolden_State.pkl      0%[                    ]       0  --.-KB/s               \rGolden_State.pkl    100%[===================>] 792.06K  --.-KB/s    in 0.1s    \n",
            "\n",
            "2020-04-16 21:12:21 (5.54 MB/s) - ‘Golden_State.pkl’ saved [811065/811065]\n",
            "\n"
          ],
          "name": "stdout"
        }
      ]
    },
    {
      "cell_type": "code",
      "metadata": {
        "id": "XuJDPTXa1GDf",
        "colab_type": "code",
        "colab": {
          "base_uri": "https://localhost:8080/",
          "height": 404
        },
        "outputId": "72f32210-8379-4aad-db9f-ccac8f215355"
      },
      "source": [
        "file_name = \"Golden_State.pkl\"\n",
        "games = pd.read_pickle(file_name)\n",
        "games.head()"
      ],
      "execution_count": 23,
      "outputs": [
        {
          "output_type": "execute_result",
          "data": {
            "text/html": [
              "<div>\n",
              "<style scoped>\n",
              "    .dataframe tbody tr th:only-of-type {\n",
              "        vertical-align: middle;\n",
              "    }\n",
              "\n",
              "    .dataframe tbody tr th {\n",
              "        vertical-align: top;\n",
              "    }\n",
              "\n",
              "    .dataframe thead th {\n",
              "        text-align: right;\n",
              "    }\n",
              "</style>\n",
              "<table border=\"1\" class=\"dataframe\">\n",
              "  <thead>\n",
              "    <tr style=\"text-align: right;\">\n",
              "      <th></th>\n",
              "      <th>SEASON_ID</th>\n",
              "      <th>TEAM_ID</th>\n",
              "      <th>TEAM_ABBREVIATION</th>\n",
              "      <th>TEAM_NAME</th>\n",
              "      <th>GAME_ID</th>\n",
              "      <th>GAME_DATE</th>\n",
              "      <th>MATCHUP</th>\n",
              "      <th>WL</th>\n",
              "      <th>MIN</th>\n",
              "      <th>PTS</th>\n",
              "      <th>FGM</th>\n",
              "      <th>FGA</th>\n",
              "      <th>FG_PCT</th>\n",
              "      <th>FG3M</th>\n",
              "      <th>FG3A</th>\n",
              "      <th>FG3_PCT</th>\n",
              "      <th>FTM</th>\n",
              "      <th>FTA</th>\n",
              "      <th>FT_PCT</th>\n",
              "      <th>OREB</th>\n",
              "      <th>DREB</th>\n",
              "      <th>REB</th>\n",
              "      <th>AST</th>\n",
              "      <th>STL</th>\n",
              "      <th>BLK</th>\n",
              "      <th>TOV</th>\n",
              "      <th>PF</th>\n",
              "      <th>PLUS_MINUS</th>\n",
              "    </tr>\n",
              "  </thead>\n",
              "  <tbody>\n",
              "    <tr>\n",
              "      <th>0</th>\n",
              "      <td>22019</td>\n",
              "      <td>1610612744</td>\n",
              "      <td>GSW</td>\n",
              "      <td>Golden State Warriors</td>\n",
              "      <td>1521900066</td>\n",
              "      <td>2019-07-12</td>\n",
              "      <td>GSW vs. LAL</td>\n",
              "      <td>L</td>\n",
              "      <td>200</td>\n",
              "      <td>87</td>\n",
              "      <td>32</td>\n",
              "      <td>82</td>\n",
              "      <td>0.390</td>\n",
              "      <td>7</td>\n",
              "      <td>31.0</td>\n",
              "      <td>0.226</td>\n",
              "      <td>16</td>\n",
              "      <td>20</td>\n",
              "      <td>0.800</td>\n",
              "      <td>13.0</td>\n",
              "      <td>29.0</td>\n",
              "      <td>42.0</td>\n",
              "      <td>13</td>\n",
              "      <td>10.0</td>\n",
              "      <td>3</td>\n",
              "      <td>11.0</td>\n",
              "      <td>21</td>\n",
              "      <td>3.2</td>\n",
              "    </tr>\n",
              "    <tr>\n",
              "      <th>1</th>\n",
              "      <td>22019</td>\n",
              "      <td>1610612744</td>\n",
              "      <td>GSW</td>\n",
              "      <td>Golden State Warriors</td>\n",
              "      <td>1521900058</td>\n",
              "      <td>2019-07-10</td>\n",
              "      <td>GSW @ DEN</td>\n",
              "      <td>W</td>\n",
              "      <td>201</td>\n",
              "      <td>73</td>\n",
              "      <td>29</td>\n",
              "      <td>66</td>\n",
              "      <td>0.439</td>\n",
              "      <td>2</td>\n",
              "      <td>15.0</td>\n",
              "      <td>0.133</td>\n",
              "      <td>13</td>\n",
              "      <td>15</td>\n",
              "      <td>0.867</td>\n",
              "      <td>7.0</td>\n",
              "      <td>27.0</td>\n",
              "      <td>34.0</td>\n",
              "      <td>10</td>\n",
              "      <td>11.0</td>\n",
              "      <td>7</td>\n",
              "      <td>20.0</td>\n",
              "      <td>20</td>\n",
              "      <td>-8.0</td>\n",
              "    </tr>\n",
              "    <tr>\n",
              "      <th>2</th>\n",
              "      <td>22019</td>\n",
              "      <td>1610612744</td>\n",
              "      <td>GSW</td>\n",
              "      <td>Golden State Warriors</td>\n",
              "      <td>1521900039</td>\n",
              "      <td>2019-07-08</td>\n",
              "      <td>GSW @ LAL</td>\n",
              "      <td>W</td>\n",
              "      <td>200</td>\n",
              "      <td>88</td>\n",
              "      <td>32</td>\n",
              "      <td>74</td>\n",
              "      <td>0.432</td>\n",
              "      <td>6</td>\n",
              "      <td>28.0</td>\n",
              "      <td>0.214</td>\n",
              "      <td>18</td>\n",
              "      <td>29</td>\n",
              "      <td>0.621</td>\n",
              "      <td>8.0</td>\n",
              "      <td>29.0</td>\n",
              "      <td>37.0</td>\n",
              "      <td>21</td>\n",
              "      <td>10.0</td>\n",
              "      <td>4</td>\n",
              "      <td>13.0</td>\n",
              "      <td>22</td>\n",
              "      <td>8.0</td>\n",
              "    </tr>\n",
              "    <tr>\n",
              "      <th>3</th>\n",
              "      <td>22019</td>\n",
              "      <td>1610612744</td>\n",
              "      <td>GSW</td>\n",
              "      <td>Golden State Warriors</td>\n",
              "      <td>1521900020</td>\n",
              "      <td>2019-07-07</td>\n",
              "      <td>GSW vs. TOR</td>\n",
              "      <td>W</td>\n",
              "      <td>201</td>\n",
              "      <td>80</td>\n",
              "      <td>28</td>\n",
              "      <td>70</td>\n",
              "      <td>0.400</td>\n",
              "      <td>12</td>\n",
              "      <td>27.0</td>\n",
              "      <td>0.444</td>\n",
              "      <td>12</td>\n",
              "      <td>13</td>\n",
              "      <td>0.923</td>\n",
              "      <td>6.0</td>\n",
              "      <td>37.0</td>\n",
              "      <td>43.0</td>\n",
              "      <td>18</td>\n",
              "      <td>8.0</td>\n",
              "      <td>3</td>\n",
              "      <td>20.0</td>\n",
              "      <td>25</td>\n",
              "      <td>10.0</td>\n",
              "    </tr>\n",
              "    <tr>\n",
              "      <th>4</th>\n",
              "      <td>22019</td>\n",
              "      <td>1610612744</td>\n",
              "      <td>GSW</td>\n",
              "      <td>Golden State Warriors</td>\n",
              "      <td>1521900007</td>\n",
              "      <td>2019-07-05</td>\n",
              "      <td>GSW vs. CHA</td>\n",
              "      <td>L</td>\n",
              "      <td>200</td>\n",
              "      <td>85</td>\n",
              "      <td>33</td>\n",
              "      <td>85</td>\n",
              "      <td>0.388</td>\n",
              "      <td>11</td>\n",
              "      <td>40.0</td>\n",
              "      <td>0.275</td>\n",
              "      <td>8</td>\n",
              "      <td>9</td>\n",
              "      <td>0.889</td>\n",
              "      <td>8.0</td>\n",
              "      <td>28.0</td>\n",
              "      <td>36.0</td>\n",
              "      <td>19</td>\n",
              "      <td>9.0</td>\n",
              "      <td>3</td>\n",
              "      <td>13.0</td>\n",
              "      <td>15</td>\n",
              "      <td>-8.0</td>\n",
              "    </tr>\n",
              "  </tbody>\n",
              "</table>\n",
              "</div>"
            ],
            "text/plain": [
              "  SEASON_ID     TEAM_ID TEAM_ABBREVIATION  ...   TOV  PF PLUS_MINUS\n",
              "0     22019  1610612744               GSW  ...  11.0  21        3.2\n",
              "1     22019  1610612744               GSW  ...  20.0  20       -8.0\n",
              "2     22019  1610612744               GSW  ...  13.0  22        8.0\n",
              "3     22019  1610612744               GSW  ...  20.0  25       10.0\n",
              "4     22019  1610612744               GSW  ...  13.0  15       -8.0\n",
              "\n",
              "[5 rows x 28 columns]"
            ]
          },
          "metadata": {
            "tags": []
          },
          "execution_count": 23
        }
      ]
    },
    {
      "cell_type": "code",
      "metadata": {
        "id": "GO0jzKjJ1F7G",
        "colab_type": "code",
        "colab": {}
      },
      "source": [
        "games_home=games [games ['MATCHUP']=='GSW vs. TOR']\n",
        "games_away=games [games ['MATCHUP']=='GSW @ TOR']"
      ],
      "execution_count": 0,
      "outputs": []
    },
    {
      "cell_type": "code",
      "metadata": {
        "id": "vMtYW3GL1Fxv",
        "colab_type": "code",
        "colab": {
          "base_uri": "https://localhost:8080/",
          "height": 35
        },
        "outputId": "e15593f5-8995-4bb3-8586-2653872d6a2e"
      },
      "source": [
        "games_home.mean()['PLUS_MINUS']"
      ],
      "execution_count": 25,
      "outputs": [
        {
          "output_type": "execute_result",
          "data": {
            "text/plain": [
              "3.730769230769231"
            ]
          },
          "metadata": {
            "tags": []
          },
          "execution_count": 25
        }
      ]
    },
    {
      "cell_type": "code",
      "metadata": {
        "id": "FBiOfEBszpST",
        "colab_type": "code",
        "colab": {
          "base_uri": "https://localhost:8080/",
          "height": 35
        },
        "outputId": "2730d2a2-42f5-42db-dc33-d687bdc76189"
      },
      "source": [
        "games_away.mean()['PLUS_MINUS']"
      ],
      "execution_count": 26,
      "outputs": [
        {
          "output_type": "execute_result",
          "data": {
            "text/plain": [
              "-0.6071428571428571"
            ]
          },
          "metadata": {
            "tags": []
          },
          "execution_count": 26
        }
      ]
    },
    {
      "cell_type": "code",
      "metadata": {
        "id": "-SX579HXzpU0",
        "colab_type": "code",
        "colab": {
          "base_uri": "https://localhost:8080/",
          "height": 282
        },
        "outputId": "6fd36f46-8024-4ef9-cc0b-7105097e9692"
      },
      "source": [
        "fig, ax = plt.subplots()\n",
        "\n",
        "games_away.plot(x='GAME_DATE',y='PLUS_MINUS', ax=ax)\n",
        "games_home.plot(x='GAME_DATE',y='PLUS_MINUS', ax=ax)\n",
        "ax.legend([\"away\", \"home\"])\n",
        "plt.show()"
      ],
      "execution_count": 27,
      "outputs": [
        {
          "output_type": "display_data",
          "data": {
            "image/png": "[encoded data removed]",
            "text/plain": [
              "<Figure size 432x288 with 1 Axes>"
            ]
          },
          "metadata": {
            "tags": [],
            "needs_background": "light"
          }
        }
      ]
    }
  ]
}